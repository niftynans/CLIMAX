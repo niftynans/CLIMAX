{
 "cells": [
  {
   "cell_type": "code",
   "execution_count": 1,
   "id": "bfc632aa",
   "metadata": {},
   "outputs": [],
   "source": [
    "import sys\n",
    "import numpy as np\n",
    "from sklearn.ensemble import RandomForestClassifier\n",
    "from sklearn.linear_model import LogisticRegression\n",
    "from sklearn.datasets import load_breast_cancer\n",
    "from sklearn.model_selection import train_test_split\n",
    "\n",
    "sys.path.append('../..')\n",
    "from slime import lime_tabular"
   ]
  },
  {
   "cell_type": "code",
   "execution_count": 2,
   "id": "139affaf",
   "metadata": {},
   "outputs": [],
   "source": [
    "breast_cancer = load_breast_cancer()\n",
    "train, test, labels_train, labels_test = train_test_split(breast_cancer.data, breast_cancer.target, train_size=0.80)\n",
    "\n",
    "rf = RandomForestClassifier()\n",
    "rf.fit(train, labels_train)\n",
    "\n",
    "explainer = lime_tabular.LimeTabularExplainer(rf,\n",
    "                                              train, \n",
    "                                              feature_names = breast_cancer.feature_names, \n",
    "                                              class_names = breast_cancer.target_names, \n",
    "                                              discretize_continuous = False, \n",
    "                                              feature_selection = \"lasso_path\", \n",
    "                                              sample_around_instance = True)"
   ]
  },
  {
   "cell_type": "markdown",
   "id": "4344f93f",
   "metadata": {},
   "source": [
    "### LIME results in different explantions"
   ]
  },
  {
   "cell_type": "code",
   "execution_count": null,
   "id": "598276a8",
   "metadata": {},
   "outputs": [],
   "source": [
    "exp = explainer.explain_instance(test[0], rf.predict_proba, num_features = 5, num_samples = 1000)\n",
    "exp.show_in_notebook(show_table = True)"
   ]
  },
  {
   "cell_type": "code",
   "execution_count": null,
   "id": "d8cefbb8",
   "metadata": {},
   "outputs": [],
   "source": [
    "exp = explainer.explain_instance(test[0], rf.predict_proba, num_features = 5, num_samples = 1000)\n",
    "exp.show_in_notebook(show_table = True)"
   ]
  },
  {
   "cell_type": "code",
   "execution_count": null,
   "id": "c7afffc7",
   "metadata": {},
   "outputs": [],
   "source": [
    "exp = explainer.explain_instance(test[0], rf.predict_proba, num_features = 5, num_samples = 1000)\n",
    "exp.show_in_notebook(show_table = True)"
   ]
  },
  {
   "cell_type": "code",
   "execution_count": null,
   "id": "c801134a",
   "metadata": {},
   "outputs": [],
   "source": [
    "exp = explainer.explain_instance(test[0], rf.predict_proba, num_features = 5, num_samples = 1000)\n",
    "exp.show_in_notebook(show_table = True)"
   ]
  },
  {
   "cell_type": "markdown",
   "id": "c8855c88",
   "metadata": {},
   "source": [
    "### S-LIME provides stable explantions"
   ]
  },
  {
   "cell_type": "code",
   "execution_count": null,
   "id": "04bfa1e7",
   "metadata": {},
   "outputs": [],
   "source": [
    "exp = explainer.slime(test[0], rf.predict_proba, num_features = 5, num_samples = 1000, n_max = 10000, alpha = 0.05)\n",
    "exp.show_in_notebook(show_table = True)"
   ]
  },
  {
   "cell_type": "markdown",
   "id": "ae063da6",
   "metadata": {},
   "source": [
    "### Jaccard index for LIME"
   ]
  },
  {
   "cell_type": "code",
   "execution_count": 4,
   "id": "6f6ebb34",
   "metadata": {},
   "outputs": [
    {
     "name": "stdout",
     "output_type": "stream",
     "text": [
      "[0.74421053 0.75763158 0.78794737 0.84754386 0.83220238]\n"
     ]
    }
   ],
   "source": [
    "explainer = lime_tabular.LimeTabularExplainer(rf,\n",
    "                                              train, \n",
    "                                              feature_names = breast_cancer.feature_names, \n",
    "                                              class_names = breast_cancer.target_names, \n",
    "                                              discretize_continuous = False, \n",
    "                                              feature_selection = \"lasso_path\", \n",
    "                                              sample_around_instance = True)\n",
    "\n",
    "jaccard_lime = []\n",
    "\n",
    "for seed in range(20):\n",
    "    np.random.seed(seed + 1)\n",
    "    i = np.random.randint(0, test.shape[0])\n",
    "    \n",
    "    result = []\n",
    "    for _ in range(20):\n",
    "        exp = explainer.explain_instance(test[i], rf.predict_proba, num_features=5, num_samples = 1000)\n",
    "        result.append([i[0] for i in exp.as_list()])\n",
    "\n",
    "        \n",
    "    jaccard = []\n",
    "    for num in range(1, 6):\n",
    "        temp = []\n",
    "        for j in range(20 - 1):\n",
    "            for k in range(j + 1, 20):\n",
    "                A = result[j][:num]\n",
    "                B = result[k][:num]\n",
    "                temp.append(len(set(A).intersection(set(B))) / float(len(set(A).union(set(B)))))\n",
    "        jaccard.append(np.mean(temp))\n",
    "\n",
    "    jaccard_lime.append(jaccard)\n",
    "    \n",
    "print(np.mean(jaccard_lime, axis = 0))"
   ]
  },
  {
   "cell_type": "code",
   "execution_count": 3,
   "id": "d832111f",
   "metadata": {},
   "outputs": [
    {
     "name": "stdout",
     "output_type": "stream",
     "text": [
      "Y looks like:  Counter({1: 1000})\n",
      "Y looks like:  Counter({1: 1000})\n",
      "Y looks like:  Counter({1: 1000})\n",
      "Y looks like:  Counter({1: 1000})\n",
      "Y looks like:  Counter({1: 1000})\n",
      "Y looks like:  Counter({1: 1000})\n",
      "Y looks like:  Counter({1: 1000})\n",
      "Y looks like:  Counter({1: 1000})\n",
      "Y looks like:  Counter({1: 1000})\n",
      "Y looks like:  Counter({1: 1000})\n",
      "Y looks like:  Counter({1: 1000})\n",
      "Y looks like:  Counter({1: 1000})\n",
      "Y looks like:  Counter({1: 1000})\n",
      "Y looks like:  Counter({1: 1000})\n",
      "Y looks like:  Counter({1: 1000})\n",
      "Y looks like:  Counter({1: 1000})\n",
      "Y looks like:  Counter({1: 1000})\n",
      "Y looks like:  Counter({1: 1000})\n",
      "Y looks like:  Counter({1: 1000})\n",
      "Y looks like:  Counter({1: 1000})\n",
      "Y looks like:  Counter({1: 1000})\n",
      "Y looks like:  Counter({1: 1000})\n"
     ]
    },
    {
     "ename": "KeyboardInterrupt",
     "evalue": "",
     "output_type": "error",
     "traceback": [
      "\u001b[0;31m---------------------------------------------------------------------------\u001b[0m",
      "\u001b[0;31mKeyboardInterrupt\u001b[0m                         Traceback (most recent call last)",
      "Cell \u001b[0;32mIn[3], line 17\u001b[0m\n\u001b[1;32m     15\u001b[0m result \u001b[39m=\u001b[39m []\n\u001b[1;32m     16\u001b[0m \u001b[39mfor\u001b[39;00m _ \u001b[39min\u001b[39;00m \u001b[39mrange\u001b[39m(\u001b[39m20\u001b[39m):\n\u001b[0;32m---> 17\u001b[0m     exp \u001b[39m=\u001b[39m explainer\u001b[39m.\u001b[39;49mif_explain_instance(test[i], rf\u001b[39m.\u001b[39;49mpredict_proba, num_features\u001b[39m=\u001b[39;49m\u001b[39m5\u001b[39;49m, num_samples \u001b[39m=\u001b[39;49m \u001b[39m1000\u001b[39;49m)\n\u001b[1;32m     18\u001b[0m     result\u001b[39m.\u001b[39mappend([i[\u001b[39m0\u001b[39m] \u001b[39mfor\u001b[39;00m i \u001b[39min\u001b[39;00m exp\u001b[39m.\u001b[39mas_list()])\n\u001b[1;32m     20\u001b[0m jaccard \u001b[39m=\u001b[39m []\n",
      "File \u001b[0;32m~/Documents/GitHub/IF_slime/doc/notebooks/../../slime/lime_tabular.py:901\u001b[0m, in \u001b[0;36mLimeTabularExplainer.if_explain_instance\u001b[0;34m(self, data_row, predict_fn, labels, top_labels, num_features, num_samples, distance_metric, model_regressor, sampling_method)\u001b[0m\n\u001b[1;32m    899\u001b[0m \u001b[39melse\u001b[39;00m:\n\u001b[1;32m    900\u001b[0m     scaled_data \u001b[39m=\u001b[39m (data \u001b[39m-\u001b[39m \u001b[39mself\u001b[39m\u001b[39m.\u001b[39mscaler\u001b[39m.\u001b[39mmean_) \u001b[39m/\u001b[39m \u001b[39mself\u001b[39m\u001b[39m.\u001b[39mscaler\u001b[39m.\u001b[39mscale_\n\u001b[0;32m--> 901\u001b[0m distances \u001b[39m=\u001b[39m sklearn\u001b[39m.\u001b[39;49mmetrics\u001b[39m.\u001b[39;49mpairwise_distances(\n\u001b[1;32m    902\u001b[0m         scaled_data,\n\u001b[1;32m    903\u001b[0m         scaled_data[\u001b[39m0\u001b[39;49m]\u001b[39m.\u001b[39;49mreshape(\u001b[39m1\u001b[39;49m, \u001b[39m-\u001b[39;49m\u001b[39m1\u001b[39;49m),\n\u001b[1;32m    904\u001b[0m         metric\u001b[39m=\u001b[39;49mdistance_metric\n\u001b[1;32m    905\u001b[0m )\u001b[39m.\u001b[39mravel()\n\u001b[1;32m    907\u001b[0m yss \u001b[39m=\u001b[39m predict_fn(inverse)\n\u001b[1;32m    909\u001b[0m \u001b[39m# for classification, the model needs to provide a list of tuples - classes\u001b[39;00m\n\u001b[1;32m    910\u001b[0m \u001b[39m# along with prediction probabilities\u001b[39;00m\n",
      "File \u001b[0;32m~/notebook/jupyter_env/lib/python3.10/site-packages/sklearn/metrics/pairwise.py:2022\u001b[0m, in \u001b[0;36mpairwise_distances\u001b[0;34m(X, Y, metric, n_jobs, force_all_finite, **kwds)\u001b[0m\n\u001b[1;32m   2019\u001b[0m         \u001b[39mreturn\u001b[39;00m distance\u001b[39m.\u001b[39msquareform(distance\u001b[39m.\u001b[39mpdist(X, metric\u001b[39m=\u001b[39mmetric, \u001b[39m*\u001b[39m\u001b[39m*\u001b[39mkwds))\n\u001b[1;32m   2020\u001b[0m     func \u001b[39m=\u001b[39m partial(distance\u001b[39m.\u001b[39mcdist, metric\u001b[39m=\u001b[39mmetric, \u001b[39m*\u001b[39m\u001b[39m*\u001b[39mkwds)\n\u001b[0;32m-> 2022\u001b[0m \u001b[39mreturn\u001b[39;00m _parallel_pairwise(X, Y, func, n_jobs, \u001b[39m*\u001b[39;49m\u001b[39m*\u001b[39;49mkwds)\n",
      "File \u001b[0;32m~/notebook/jupyter_env/lib/python3.10/site-packages/sklearn/metrics/pairwise.py:1563\u001b[0m, in \u001b[0;36m_parallel_pairwise\u001b[0;34m(X, Y, func, n_jobs, **kwds)\u001b[0m\n\u001b[1;32m   1560\u001b[0m X, Y, dtype \u001b[39m=\u001b[39m _return_float_dtype(X, Y)\n\u001b[1;32m   1562\u001b[0m \u001b[39mif\u001b[39;00m effective_n_jobs(n_jobs) \u001b[39m==\u001b[39m \u001b[39m1\u001b[39m:\n\u001b[0;32m-> 1563\u001b[0m     \u001b[39mreturn\u001b[39;00m func(X, Y, \u001b[39m*\u001b[39;49m\u001b[39m*\u001b[39;49mkwds)\n\u001b[1;32m   1565\u001b[0m \u001b[39m# enforce a threading backend to prevent data communication overhead\u001b[39;00m\n\u001b[1;32m   1566\u001b[0m fd \u001b[39m=\u001b[39m delayed(_dist_wrapper)\n",
      "File \u001b[0;32m~/notebook/jupyter_env/lib/python3.10/site-packages/sklearn/metrics/pairwise.py:328\u001b[0m, in \u001b[0;36meuclidean_distances\u001b[0;34m(X, Y, Y_norm_squared, squared, X_norm_squared)\u001b[0m\n\u001b[1;32m    322\u001b[0m     \u001b[39mif\u001b[39;00m Y_norm_squared\u001b[39m.\u001b[39mshape \u001b[39m!=\u001b[39m (\u001b[39m1\u001b[39m, Y\u001b[39m.\u001b[39mshape[\u001b[39m0\u001b[39m]):\n\u001b[1;32m    323\u001b[0m         \u001b[39mraise\u001b[39;00m \u001b[39mValueError\u001b[39;00m(\n\u001b[1;32m    324\u001b[0m             \u001b[39mf\u001b[39m\u001b[39m\"\u001b[39m\u001b[39mIncompatible dimensions for Y of shape \u001b[39m\u001b[39m{\u001b[39;00mY\u001b[39m.\u001b[39mshape\u001b[39m}\u001b[39;00m\u001b[39m and \u001b[39m\u001b[39m\"\u001b[39m\n\u001b[1;32m    325\u001b[0m             \u001b[39mf\u001b[39m\u001b[39m\"\u001b[39m\u001b[39mY_norm_squared of shape \u001b[39m\u001b[39m{\u001b[39;00moriginal_shape\u001b[39m}\u001b[39;00m\u001b[39m.\u001b[39m\u001b[39m\"\u001b[39m\n\u001b[1;32m    326\u001b[0m         )\n\u001b[0;32m--> 328\u001b[0m \u001b[39mreturn\u001b[39;00m _euclidean_distances(X, Y, X_norm_squared, Y_norm_squared, squared)\n",
      "File \u001b[0;32m~/notebook/jupyter_env/lib/python3.10/site-packages/sklearn/metrics/pairwise.py:369\u001b[0m, in \u001b[0;36m_euclidean_distances\u001b[0;34m(X, Y, X_norm_squared, Y_norm_squared, squared)\u001b[0m\n\u001b[1;32m    366\u001b[0m     distances \u001b[39m=\u001b[39m _euclidean_distances_upcast(X, XX, Y, YY)\n\u001b[1;32m    367\u001b[0m \u001b[39melse\u001b[39;00m:\n\u001b[1;32m    368\u001b[0m     \u001b[39m# if dtype is already float64, no need to chunk and upcast\u001b[39;00m\n\u001b[0;32m--> 369\u001b[0m     distances \u001b[39m=\u001b[39m \u001b[39m-\u001b[39m\u001b[39m2\u001b[39m \u001b[39m*\u001b[39m safe_sparse_dot(X, Y\u001b[39m.\u001b[39;49mT, dense_output\u001b[39m=\u001b[39;49m\u001b[39mTrue\u001b[39;49;00m)\n\u001b[1;32m    370\u001b[0m     distances \u001b[39m+\u001b[39m\u001b[39m=\u001b[39m XX\n\u001b[1;32m    371\u001b[0m     distances \u001b[39m+\u001b[39m\u001b[39m=\u001b[39m YY\n",
      "File \u001b[0;32m~/notebook/jupyter_env/lib/python3.10/site-packages/sklearn/utils/extmath.py:155\u001b[0m, in \u001b[0;36msafe_sparse_dot\u001b[0;34m(a, b, dense_output)\u001b[0m\n\u001b[1;32m    151\u001b[0m \u001b[39melse\u001b[39;00m:\n\u001b[1;32m    152\u001b[0m     ret \u001b[39m=\u001b[39m a \u001b[39m@\u001b[39m b\n\u001b[1;32m    154\u001b[0m \u001b[39mif\u001b[39;00m (\n\u001b[0;32m--> 155\u001b[0m     sparse\u001b[39m.\u001b[39;49missparse(a)\n\u001b[1;32m    156\u001b[0m     \u001b[39mand\u001b[39;00m sparse\u001b[39m.\u001b[39missparse(b)\n\u001b[1;32m    157\u001b[0m     \u001b[39mand\u001b[39;00m dense_output\n\u001b[1;32m    158\u001b[0m     \u001b[39mand\u001b[39;00m \u001b[39mhasattr\u001b[39m(ret, \u001b[39m\"\u001b[39m\u001b[39mtoarray\u001b[39m\u001b[39m\"\u001b[39m)\n\u001b[1;32m    159\u001b[0m ):\n\u001b[1;32m    160\u001b[0m     \u001b[39mreturn\u001b[39;00m ret\u001b[39m.\u001b[39mtoarray()\n\u001b[1;32m    161\u001b[0m \u001b[39mreturn\u001b[39;00m ret\n",
      "File \u001b[0;32m~/notebook/jupyter_env/lib/python3.10/site-packages/scipy/sparse/_base.py:1301\u001b[0m, in \u001b[0;36misspmatrix\u001b[0;34m(x)\u001b[0m\n\u001b[1;32m   1297\u001b[0m         \u001b[39melse\u001b[39;00m:\n\u001b[1;32m   1298\u001b[0m             \u001b[39mreturn\u001b[39;00m np\u001b[39m.\u001b[39mzeros(\u001b[39mself\u001b[39m\u001b[39m.\u001b[39mshape, dtype\u001b[39m=\u001b[39m\u001b[39mself\u001b[39m\u001b[39m.\u001b[39mdtype, order\u001b[39m=\u001b[39morder)\n\u001b[0;32m-> 1301\u001b[0m \u001b[39mdef\u001b[39;00m \u001b[39misspmatrix\u001b[39m(x):\n\u001b[1;32m   1302\u001b[0m     \u001b[39m\"\"\"Is x of a sparse matrix type?\u001b[39;00m\n\u001b[1;32m   1303\u001b[0m \n\u001b[1;32m   1304\u001b[0m \u001b[39m    Parameters\u001b[39;00m\n\u001b[0;32m   (...)\u001b[0m\n\u001b[1;32m   1326\u001b[0m \u001b[39m    False\u001b[39;00m\n\u001b[1;32m   1327\u001b[0m \u001b[39m    \"\"\"\u001b[39;00m\n\u001b[1;32m   1328\u001b[0m     \u001b[39mreturn\u001b[39;00m \u001b[39misinstance\u001b[39m(x, spmatrix)\n",
      "\u001b[0;31mKeyboardInterrupt\u001b[0m: "
     ]
    }
   ],
   "source": [
    "explainer = lime_tabular.LimeTabularExplainer(rf,\n",
    "                                              train, \n",
    "                                              feature_names = breast_cancer.feature_names, \n",
    "                                              class_names = breast_cancer.target_names, \n",
    "                                              discretize_continuous = False, \n",
    "                                              feature_selection = \"lasso_path\", \n",
    "                                              sample_around_instance = True)\n",
    "\n",
    "jaccard_lime = []\n",
    "\n",
    "for seed in range(20):\n",
    "    np.random.seed(seed + 1)\n",
    "    i = np.random.randint(0, test.shape[0])\n",
    "    \n",
    "    result = []\n",
    "    for _ in range(20):\n",
    "        exp = explainer.if_explain_instance(test[i], rf.predict_proba, num_features=5, num_samples = 1000)\n",
    "        result.append([i[0] for i in exp.as_list()])\n",
    "        \n",
    "    jaccard = []\n",
    "    for num in range(1, 6):\n",
    "        temp = []\n",
    "        for j in range(20 - 1):\n",
    "            for k in range(j + 1, 20):\n",
    "                A = result[j][:num]\n",
    "                B = result[k][:num]\n",
    "                temp.append(len(set(A).intersection(set(B))) / float(len(set(A).union(set(B)))))\n",
    "        jaccard.append(np.mean(temp))\n",
    "\n",
    "    jaccard_lime.append(jaccard)\n",
    "    \n",
    "print(np.mean(jaccard_lime, axis = 0))"
   ]
  },
  {
   "cell_type": "markdown",
   "id": "641de413",
   "metadata": {},
   "source": [
    "### Jaccard index for S-LIME"
   ]
  },
  {
   "cell_type": "code",
   "execution_count": null,
   "id": "d61a4e45",
   "metadata": {},
   "outputs": [],
   "source": [
    "explainer = lime_tabular.LimeTabularExplainer(train, \n",
    "                                              feature_names = breast_cancer.feature_names, \n",
    "                                              class_names = breast_cancer.target_names, \n",
    "                                              discretize_continuous = False, \n",
    "                                              feature_selection = \"lasso_path\", \n",
    "                                              sample_around_instance = True)\n",
    "\n",
    "jaccard_slime = []\n",
    "\n",
    "for seed in range(20):\n",
    "    np.random.seed(seed + 1)\n",
    "    i = np.random.randint(0, test.shape[0])\n",
    "    \n",
    "    result = []\n",
    "    for _ in range(20):\n",
    "        exp = explainer.slime(test[i], rf.predict_proba, num_features=5, num_samples = 1000, n_max = 20000, alpha = 0.05)\n",
    "        result.append([i[0] for i in exp.as_list()])\n",
    "        \n",
    "    jaccard = []\n",
    "    for num in range(1, 6):\n",
    "        temp = []\n",
    "        for j in range(20 - 1):\n",
    "            for k in range(j + 1, 20):\n",
    "                A = result[j][:num]\n",
    "                B = result[k][:num]\n",
    "                temp.append(len(set(A).intersection(set(B))) / float(len(set(A).union(set(B)))))\n",
    "        jaccard.append(np.mean(temp))\n",
    "\n",
    "    jaccard_slime.append(jaccard)\n",
    "    \n",
    "print(np.mean(jaccard_slime, axis = 0))"
   ]
  }
 ],
 "metadata": {
  "kernelspec": {
   "display_name": "jupyter_env",
   "language": "python",
   "name": "python3"
  },
  "language_info": {
   "codemirror_mode": {
    "name": "ipython",
    "version": 3
   },
   "file_extension": ".py",
   "mimetype": "text/x-python",
   "name": "python",
   "nbconvert_exporter": "python",
   "pygments_lexer": "ipython3",
   "version": "3.10.6 (main, Nov 14 2022, 16:10:14) [GCC 11.3.0]"
  },
  "vscode": {
   "interpreter": {
    "hash": "45263783c026738a01229a76a997ac4b06d8d9e82a135e1f5eb2b8b0ed62292e"
   }
  }
 },
 "nbformat": 4,
 "nbformat_minor": 5
}
