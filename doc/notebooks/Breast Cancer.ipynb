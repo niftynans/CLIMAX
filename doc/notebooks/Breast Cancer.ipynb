{
 "cells": [
  {
   "cell_type": "code",
   "execution_count": null,
   "id": "bfc632aa",
   "metadata": {},
   "outputs": [],
   "source": [
    "import sys\n",
    "import numpy as np\n",
    "from sklearn.ensemble import RandomForestClassifier\n",
    "from sklearn.linear_model import LogisticRegression\n",
    "from sklearn.datasets import load_breast_cancer\n",
    "from sklearn.model_selection import train_test_split\n",
    "\n",
    "sys.path.append('../..')\n",
    "from slime import lime_tabular"
   ]
  },
  {
   "cell_type": "code",
   "execution_count": null,
   "id": "139affaf",
   "metadata": {},
   "outputs": [],
   "source": [
    "breast_cancer = load_breast_cancer()\n",
    "train, test, labels_train, labels_test = train_test_split(breast_cancer.data, breast_cancer.target, train_size=0.80)\n",
    "\n",
    "rf = RandomForestClassifier()\n",
    "rf.fit(train, labels_train)\n",
    "\n",
    "explainer = lime_tabular.LimeTabularExplainer(rf,\n",
    "                                              train, \n",
    "                                              feature_names = breast_cancer.feature_names, \n",
    "                                              class_names = breast_cancer.target_names, \n",
    "                                              discretize_continuous = False, \n",
    "                                              feature_selection = \"lasso_path\", \n",
    "                                              sample_around_instance = True)"
   ]
  },
  {
   "cell_type": "markdown",
   "id": "4344f93f",
   "metadata": {},
   "source": [
    "### LIME results in different explantions"
   ]
  },
  {
   "cell_type": "code",
   "execution_count": null,
   "id": "598276a8",
   "metadata": {},
   "outputs": [],
   "source": [
    "exp = explainer.explain_instance(test[0], rf.predict_proba, num_features = 5, num_samples = 1000)\n",
    "exp.show_in_notebook(show_table = True)"
   ]
  },
  {
   "cell_type": "code",
   "execution_count": null,
   "id": "169e1849",
   "metadata": {},
   "outputs": [],
   "source": [
    "exp = explainer.if_explain_instance(test[0], rf.predict_proba, num_features = 5, num_samples = 1000)\n",
    "exp.show_in_notebook(show_table = True)"
   ]
  },
  {
   "cell_type": "markdown",
   "id": "c8855c88",
   "metadata": {},
   "source": [
    "### S-LIME provides stable explantions"
   ]
  },
  {
   "cell_type": "code",
   "execution_count": null,
   "id": "04bfa1e7",
   "metadata": {},
   "outputs": [],
   "source": [
    "exp = explainer.slime(test[0], rf.predict_proba, num_features = 5, num_samples = 1000, n_max = 10000, alpha = 0.05)\n",
    "exp.show_in_notebook(show_table = True)"
   ]
  },
  {
   "cell_type": "markdown",
   "id": "ae063da6",
   "metadata": {},
   "source": [
    "### Jaccard index for LIME"
   ]
  },
  {
   "cell_type": "code",
   "execution_count": null,
   "id": "6f6ebb34",
   "metadata": {},
   "outputs": [],
   "source": [
    "jaccard_lime = []\n",
    "\n",
    "for seed in range(20):\n",
    "    np.random.seed(seed + 1)\n",
    "    i = np.random.randint(0, test.shape[0])\n",
    "    \n",
    "    result = []\n",
    "    for _ in range(20):\n",
    "        exp = explainer.explain_instance(test[i], rf.predict_proba, num_features=5, num_samples = 1000)\n",
    "        result.append([i[0] for i in exp.as_list()])\n",
    "\n",
    "        \n",
    "    jaccard = []\n",
    "    for num in range(1, 6):\n",
    "        temp = []\n",
    "        for j in range(20 - 1):\n",
    "            for k in range(j + 1, 20):\n",
    "                A = result[j][:num]\n",
    "                B = result[k][:num]\n",
    "                temp.append(len(set(A).intersection(set(B))) / float(len(set(A).union(set(B)))))\n",
    "        jaccard.append(np.mean(temp))\n",
    "\n",
    "    jaccard_lime.append(jaccard)\n",
    "    \n",
    "print(np.mean(jaccard_lime, axis = 0))"
   ]
  },
  {
   "cell_type": "code",
   "execution_count": null,
   "id": "d832111f",
   "metadata": {},
   "outputs": [],
   "source": [
    "jaccard_lime = []\n",
    "\n",
    "for seed in range(20):\n",
    "    np.random.seed(seed + 1)\n",
    "    i = np.random.randint(0, test.shape[0])\n",
    "    \n",
    "    result = []\n",
    "    for _ in range(20):\n",
    "        exp = explainer.if_explain_instance(test[i], rf.predict_proba, num_features=5, num_samples = 1000)\n",
    "        result.append([i[0] for i in exp.as_list()])\n",
    "        \n",
    "    jaccard = []\n",
    "    for num in range(1, 6):\n",
    "        temp = []\n",
    "        for j in range(20 - 1):\n",
    "            for k in range(j + 1, 20):\n",
    "                A = result[j][:num]\n",
    "                B = result[k][:num]\n",
    "                temp.append(len(set(A).intersection(set(B))) / float(len(set(A).union(set(B)))))\n",
    "        jaccard.append(np.mean(temp))\n",
    "\n",
    "    jaccard_lime.append(jaccard)\n",
    "    \n",
    "print(np.mean(jaccard_lime, axis = 0))"
   ]
  },
  {
   "cell_type": "markdown",
   "id": "641de413",
   "metadata": {},
   "source": [
    "### Jaccard index for S-LIME"
   ]
  },
  {
   "cell_type": "code",
   "execution_count": null,
   "id": "d61a4e45",
   "metadata": {},
   "outputs": [],
   "source": [
    "explainer = lime_tabular.LimeTabularExplainer(train, \n",
    "                                              feature_names = breast_cancer.feature_names, \n",
    "                                              class_names = breast_cancer.target_names, \n",
    "                                              discretize_continuous = False, \n",
    "                                              feature_selection = \"lasso_path\", \n",
    "                                              sample_around_instance = True)\n",
    "\n",
    "jaccard_slime = []\n",
    "\n",
    "for seed in range(20):\n",
    "    np.random.seed(seed + 1)\n",
    "    i = np.random.randint(0, test.shape[0])\n",
    "    \n",
    "    result = []\n",
    "    for _ in range(20):\n",
    "        exp = explainer.slime(test[i], rf.predict_proba, num_features=5, num_samples = 1000, n_max = 20000, alpha = 0.05)\n",
    "        result.append([i[0] for i in exp.as_list()])\n",
    "        \n",
    "    jaccard = []\n",
    "    for num in range(1, 6):\n",
    "        temp = []\n",
    "        for j in range(20 - 1):\n",
    "            for k in range(j + 1, 20):\n",
    "                A = result[j][:num]\n",
    "                B = result[k][:num]\n",
    "                temp.append(len(set(A).intersection(set(B))) / float(len(set(A).union(set(B)))))\n",
    "        jaccard.append(np.mean(temp))\n",
    "\n",
    "    jaccard_slime.append(jaccard)\n",
    "    \n",
    "print(np.mean(jaccard_slime, axis = 0))"
   ]
  }
 ],
 "metadata": {
  "kernelspec": {
   "display_name": "jupyter_env",
   "language": "python",
   "name": "python3"
  },
  "language_info": {
   "codemirror_mode": {
    "name": "ipython",
    "version": 3
   },
   "file_extension": ".py",
   "mimetype": "text/x-python",
   "name": "python",
   "nbconvert_exporter": "python",
   "pygments_lexer": "ipython3",
   "version": "3.10.6"
  },
  "vscode": {
   "interpreter": {
    "hash": "45263783c026738a01229a76a997ac4b06d8d9e82a135e1f5eb2b8b0ed62292e"
   }
  }
 },
 "nbformat": 4,
 "nbformat_minor": 5
}
